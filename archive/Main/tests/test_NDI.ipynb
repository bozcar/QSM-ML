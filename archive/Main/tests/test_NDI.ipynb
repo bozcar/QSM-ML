{
 "cells": [
  {
   "cell_type": "markdown",
   "metadata": {},
   "source": [
    "### Imports"
   ]
  },
  {
   "cell_type": "code",
   "execution_count": 1,
   "metadata": {},
   "outputs": [
    {
     "name": "stdout",
     "output_type": "stream",
     "text": [
      "working directory: C:\\Users\\bozth\\Documents\\UCL\\MRes_Project\\QSM-ML\\Main\n"
     ]
    }
   ],
   "source": [
    "import os\n",
    "\n",
    "os.chdir(\"C:\\\\Users\\\\bozth\\\\Documents\\\\UCL\\\\MRes_Project\\\\QSM-ML\\\\Main\") # makes importing models easier\n",
    "print(f\"working directory: {os.getcwd()}\")"
   ]
  },
  {
   "cell_type": "code",
   "execution_count": 2,
   "metadata": {},
   "outputs": [],
   "source": [
    "from pathlib import Path\n",
    "from datetime import datetime\n",
    "\n",
    "import nibabel as nib\n",
    "import tensorflow as tf\n",
    "import matplotlib.pyplot as plt\n",
    "\n",
    "from models import *"
   ]
  },
  {
   "cell_type": "code",
   "execution_count": 3,
   "metadata": {},
   "outputs": [],
   "source": [
    "# %load_ext tensorboard"
   ]
  },
  {
   "cell_type": "markdown",
   "metadata": {},
   "source": [
    "### Get some test data"
   ]
  },
  {
   "cell_type": "code",
   "execution_count": 3,
   "metadata": {},
   "outputs": [],
   "source": [
    "IMPATH = Path(r\"C:\\Users\\bozth\\Documents\\UCL\\MRes_Project\\QSM-ML\\Replication\\Datasets\\Frequency.nii\")\n",
    "MPATH = Path(r\"C:\\Users\\bozth\\Documents\\UCL\\MRes_Project\\QSM-ML\\Replication\\Datasets\\MaskBrainExtracted.nii\")\n",
    "\n",
    "img = nib.load(IMPATH)\n",
    "mask = nib.load(MPATH)\n",
    "\n",
    "img_tensor = tf.constant(img.get_fdata())\n",
    "mask_tensor = tf.constant(mask.get_fdata())"
   ]
  },
  {
   "cell_type": "markdown",
   "metadata": {},
   "source": [
    "### Run the untrained model\n",
    "Use tensorboard to visualise the network."
   ]
  },
  {
   "cell_type": "code",
   "execution_count": 4,
   "metadata": {},
   "outputs": [],
   "source": [
    "stamp = datetime.now().strftime(\"%Y%m%d-%H%M%S\")\n",
    "logdir = Path(\"C:\\\\Users\\\\bozth\\\\Documents\\\\UCL\\\\MRes_Project\\\\QSM-ML\\\\Main\\\\tests\\\\logs\\\\\" + stamp)\n",
    "# writer = tf.summary.create_file_writer(str(logdir))\n",
    "\n",
    "NDIfixed = FixedStepNDI(100, name='fixed')"
   ]
  },
  {
   "cell_type": "code",
   "execution_count": 5,
   "metadata": {},
   "outputs": [],
   "source": [
    "# tf.summary.trace_on(graph=True)\n",
    "# tf.profiler.experimental.start(str(logdir))\n",
    "\n",
    "susceptibility = NDIfixed(img_tensor, mask_tensor)\n",
    "\n",
    "# with writer.as_default():\n",
    "#     tf.summary.trace_export(\n",
    "#         name=\"NDIfixed_trace\",\n",
    "#         step=0,\n",
    "#         profiler_outdir=logdir\n",
    "#     )"
   ]
  },
  {
   "cell_type": "code",
   "execution_count": null,
   "metadata": {},
   "outputs": [],
   "source": [
    "%tensorboard --logdir Main/tests/logs/func"
   ]
  },
  {
   "cell_type": "markdown",
   "metadata": {},
   "source": [
    "### Visualise the output"
   ]
  },
  {
   "cell_type": "code",
   "execution_count": null,
   "metadata": {},
   "outputs": [],
   "source": [
    "plt.imshow(susceptibility[:, :, 100], cmap='gray')\n",
    "plt.axes('off')\n",
    "plt.colorbar()\n",
    "plt.show()"
   ]
  }
 ],
 "metadata": {
  "interpreter": {
   "hash": "9d848f7f3fca4d1d28a12535d52542cd0d6c49562f24af4bb296b2baf9660832"
  },
  "kernelspec": {
   "display_name": "Python 3.9.7 ('base')",
   "language": "python",
   "name": "python3"
  },
  "language_info": {
   "codemirror_mode": {
    "name": "ipython",
    "version": 3
   },
   "file_extension": ".py",
   "mimetype": "text/x-python",
   "name": "python",
   "nbconvert_exporter": "python",
   "pygments_lexer": "ipython3",
   "version": "3.9.7"
  },
  "orig_nbformat": 4
 },
 "nbformat": 4,
 "nbformat_minor": 2
}
