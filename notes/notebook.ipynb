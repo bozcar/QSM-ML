{
 "cells": [
  {
   "attachments": {},
   "cell_type": "markdown",
   "metadata": {},
   "source": [
    "# Command to load tensorboard"
   ]
  },
  {
   "cell_type": "code",
   "execution_count": null,
   "metadata": {},
   "outputs": [],
   "source": [
    "%load_ext tensorboard"
   ]
  },
  {
   "attachments": {},
   "cell_type": "markdown",
   "metadata": {},
   "source": [
    "# Produce images"
   ]
  },
  {
   "cell_type": "code",
   "execution_count": 1,
   "metadata": {},
   "outputs": [],
   "source": [
    "from pathlib import Path\n",
    "\n",
    "import matplotlib.pyplot as plt\n",
    "import nibabel as nib\n",
    "import numpy as np"
   ]
  },
  {
   "cell_type": "code",
   "execution_count": 2,
   "metadata": {},
   "outputs": [],
   "source": [
    "def image_transform(img: np.ndarray):\n",
    "    return np.flip(img).T\n",
    "\n",
    "\n",
    "def show_example(img, point):\n",
    "    max_val = np.max(img)\n",
    "    min_val = np.min(img)\n",
    "\n",
    "    fig, axs = plt.subplots(2, 2)\n",
    "\n",
    "    INDS = [\n",
    "        (0, 1), # axial\n",
    "        (1, 0), # sagital\n",
    "        (1, 1), # coronal\n",
    "    ]\n",
    "    slices = [\n",
    "        image_transform(img[:, :, point[2]]), # axial\n",
    "        image_transform(img[point[0], :, :]), # sagital\n",
    "        image_transform(img[:, point[1], :]), # coronal\n",
    "    ]\n",
    "\n",
    "    for ind, slice in list(zip(INDS, slices)):\n",
    "        im = axs[ind].imshow(\n",
    "            slice,\n",
    "            cmap='gray',\n",
    "            vmax=max_val,\n",
    "            vmin=min_val\n",
    "        )\n",
    "        axs[ind].axis('off')\n",
    "\n",
    "    axs[0, 0].axis('off')\n",
    "    fig.colorbar(im, ax=axs.ravel().tolist())\n",
    "\n",
    "    return fig, axs"
   ]
  },
  {
   "attachments": {},
   "cell_type": "markdown",
   "metadata": {},
   "source": [
    "Import image data"
   ]
  },
  {
   "cell_type": "code",
   "execution_count": 3,
   "metadata": {},
   "outputs": [
    {
     "data": {
      "text/plain": [
       "(164, 205, 205)"
      ]
     },
     "execution_count": 3,
     "metadata": {},
     "output_type": "execute_result"
    }
   ],
   "source": [
    "imgpath = Path(r\"C:\\Users\\bozth\\Documents\\UCL\\MRes_Project\\QSM-ML\\data\\Sim2Snr2\")\n",
    "\n",
    "nimg = nib.load(imgpath / 'Frequency.nii.gz')\n",
    "img_data = nimg.get_fdata()\n",
    "img_data.shape"
   ]
  },
  {
   "cell_type": "code",
   "execution_count": 4,
   "metadata": {},
   "outputs": [
    {
     "data": {
      "image/png": "[encoded data removed]",
      "text/plain": [
       "<Figure size 432x288 with 5 Axes>"
      ]
     },
     "metadata": {
      "needs_background": "light"
     },
     "output_type": "display_data"
    }
   ],
   "source": [
    "fig, axs = show_example(img_data, [82, 93, 146])\n",
    "plt.show()"
   ]
  }
 ],
 "metadata": {
  "kernelspec": {
   "display_name": "QSMLearn",
   "language": "python",
   "name": "python3"
  },
  "language_info": {
   "codemirror_mode": {
    "name": "ipython",
    "version": 3
   },
   "file_extension": ".py",
   "mimetype": "text/x-python",
   "name": "python",
   "nbconvert_exporter": "python",
   "pygments_lexer": "ipython3",
   "version": "3.9.7"
  },
  "orig_nbformat": 4
 },
 "nbformat": 4,
 "nbformat_minor": 2
}
